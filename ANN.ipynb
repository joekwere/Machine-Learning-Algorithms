{
 "cells": [
  {
   "cell_type": "code",
   "execution_count": 1,
   "id": "d8717237",
   "metadata": {},
   "outputs": [],
   "source": [
    "#importing necessary libraries\n",
    "import pandas as pd\n",
    "import numpy as np\n",
    "import sklearn\n",
    "import seaborn as sns\n",
    "import matplotlib.pyplot as plt\n",
    "from sklearn.model_selection import train_test_split\n",
    "from imblearn.under_sampling import RandomUnderSampler\n",
    "from sklearn.preprocessing import StandardScaler\n",
    "from sklearn.preprocessing import MinMaxScaler\n",
    "from imblearn.over_sampling import RandomOverSampler\n",
    "from sklearn.metrics import confusion_matrix, classification_report\n",
    "import tensorflow as tf\n",
    "%matplotlib inline"
   ]
  },
  {
   "cell_type": "code",
   "execution_count": 2,
   "id": "4fea9dd4",
   "metadata": {},
   "outputs": [],
   "source": [
    "#loading the dataset\n",
    "df = pd.read_csv(\"Shill_Bidding_Dataset.csv\")"
   ]
  },
  {
   "cell_type": "code",
   "execution_count": 3,
   "id": "4c6650cd",
   "metadata": {},
   "outputs": [
    {
     "name": "stdout",
     "output_type": "stream",
     "text": [
      "<class 'pandas.core.frame.DataFrame'>\n",
      "RangeIndex: 6321 entries, 0 to 6320\n",
      "Data columns (total 13 columns):\n",
      " #   Column                  Non-Null Count  Dtype  \n",
      "---  ------                  --------------  -----  \n",
      " 0   Record_ID               6321 non-null   int64  \n",
      " 1   Auction_ID              6321 non-null   int64  \n",
      " 2   Bidder_ID               6321 non-null   object \n",
      " 3   Bidder_Tendency         6321 non-null   float64\n",
      " 4   Bidding_Ratio           6321 non-null   float64\n",
      " 5   Successive_Outbidding   6321 non-null   float64\n",
      " 6   Last_Bidding            6321 non-null   float64\n",
      " 7   Auction_Bids            6321 non-null   float64\n",
      " 8   Starting_Price_Average  6321 non-null   float64\n",
      " 9   Early_Bidding           6321 non-null   float64\n",
      " 10  Winning_Ratio           6321 non-null   float64\n",
      " 11  Auction_Duration        6321 non-null   int64  \n",
      " 12  Class                   6321 non-null   int64  \n",
      "dtypes: float64(8), int64(4), object(1)\n",
      "memory usage: 642.1+ KB\n"
     ]
    }
   ],
   "source": [
    "#checking table structure\n",
    "df.info()"
   ]
  },
  {
   "cell_type": "code",
   "execution_count": 4,
   "id": "99f6addb",
   "metadata": {},
   "outputs": [
    {
     "data": {
      "text/html": [
       "<div>\n",
       "<style scoped>\n",
       "    .dataframe tbody tr th:only-of-type {\n",
       "        vertical-align: middle;\n",
       "    }\n",
       "\n",
       "    .dataframe tbody tr th {\n",
       "        vertical-align: top;\n",
       "    }\n",
       "\n",
       "    .dataframe thead th {\n",
       "        text-align: right;\n",
       "    }\n",
       "</style>\n",
       "<table border=\"1\" class=\"dataframe\">\n",
       "  <thead>\n",
       "    <tr style=\"text-align: right;\">\n",
       "      <th></th>\n",
       "      <th>Record_ID</th>\n",
       "      <th>Auction_ID</th>\n",
       "      <th>Bidder_Tendency</th>\n",
       "      <th>Bidding_Ratio</th>\n",
       "      <th>Successive_Outbidding</th>\n",
       "      <th>Last_Bidding</th>\n",
       "      <th>Auction_Bids</th>\n",
       "      <th>Starting_Price_Average</th>\n",
       "      <th>Early_Bidding</th>\n",
       "      <th>Winning_Ratio</th>\n",
       "      <th>Auction_Duration</th>\n",
       "      <th>Class</th>\n",
       "    </tr>\n",
       "  </thead>\n",
       "  <tbody>\n",
       "    <tr>\n",
       "      <th>count</th>\n",
       "      <td>6321.000000</td>\n",
       "      <td>6321.000000</td>\n",
       "      <td>6321.000000</td>\n",
       "      <td>6321.000000</td>\n",
       "      <td>6321.000000</td>\n",
       "      <td>6321.000000</td>\n",
       "      <td>6321.000000</td>\n",
       "      <td>6321.000000</td>\n",
       "      <td>6321.000000</td>\n",
       "      <td>6321.000000</td>\n",
       "      <td>6321.000000</td>\n",
       "      <td>6321.000000</td>\n",
       "    </tr>\n",
       "    <tr>\n",
       "      <th>mean</th>\n",
       "      <td>7535.829457</td>\n",
       "      <td>1241.388230</td>\n",
       "      <td>0.142541</td>\n",
       "      <td>0.127670</td>\n",
       "      <td>0.103781</td>\n",
       "      <td>0.463119</td>\n",
       "      <td>0.231606</td>\n",
       "      <td>0.472821</td>\n",
       "      <td>0.430683</td>\n",
       "      <td>0.367731</td>\n",
       "      <td>4.615093</td>\n",
       "      <td>0.106787</td>\n",
       "    </tr>\n",
       "    <tr>\n",
       "      <th>std</th>\n",
       "      <td>4364.759137</td>\n",
       "      <td>735.770789</td>\n",
       "      <td>0.197084</td>\n",
       "      <td>0.131530</td>\n",
       "      <td>0.279698</td>\n",
       "      <td>0.380097</td>\n",
       "      <td>0.255252</td>\n",
       "      <td>0.489912</td>\n",
       "      <td>0.380785</td>\n",
       "      <td>0.436573</td>\n",
       "      <td>2.466629</td>\n",
       "      <td>0.308867</td>\n",
       "    </tr>\n",
       "    <tr>\n",
       "      <th>min</th>\n",
       "      <td>1.000000</td>\n",
       "      <td>5.000000</td>\n",
       "      <td>0.000000</td>\n",
       "      <td>0.011765</td>\n",
       "      <td>0.000000</td>\n",
       "      <td>0.000000</td>\n",
       "      <td>0.000000</td>\n",
       "      <td>0.000000</td>\n",
       "      <td>0.000000</td>\n",
       "      <td>0.000000</td>\n",
       "      <td>1.000000</td>\n",
       "      <td>0.000000</td>\n",
       "    </tr>\n",
       "    <tr>\n",
       "      <th>25%</th>\n",
       "      <td>3778.000000</td>\n",
       "      <td>589.000000</td>\n",
       "      <td>0.027027</td>\n",
       "      <td>0.043478</td>\n",
       "      <td>0.000000</td>\n",
       "      <td>0.047928</td>\n",
       "      <td>0.000000</td>\n",
       "      <td>0.000000</td>\n",
       "      <td>0.026620</td>\n",
       "      <td>0.000000</td>\n",
       "      <td>3.000000</td>\n",
       "      <td>0.000000</td>\n",
       "    </tr>\n",
       "    <tr>\n",
       "      <th>50%</th>\n",
       "      <td>7591.000000</td>\n",
       "      <td>1246.000000</td>\n",
       "      <td>0.062500</td>\n",
       "      <td>0.083333</td>\n",
       "      <td>0.000000</td>\n",
       "      <td>0.440937</td>\n",
       "      <td>0.142857</td>\n",
       "      <td>0.000000</td>\n",
       "      <td>0.360104</td>\n",
       "      <td>0.000000</td>\n",
       "      <td>5.000000</td>\n",
       "      <td>0.000000</td>\n",
       "    </tr>\n",
       "    <tr>\n",
       "      <th>75%</th>\n",
       "      <td>11277.000000</td>\n",
       "      <td>1867.000000</td>\n",
       "      <td>0.166667</td>\n",
       "      <td>0.166667</td>\n",
       "      <td>0.000000</td>\n",
       "      <td>0.860363</td>\n",
       "      <td>0.454545</td>\n",
       "      <td>0.993593</td>\n",
       "      <td>0.826761</td>\n",
       "      <td>0.851852</td>\n",
       "      <td>7.000000</td>\n",
       "      <td>0.000000</td>\n",
       "    </tr>\n",
       "    <tr>\n",
       "      <th>max</th>\n",
       "      <td>15144.000000</td>\n",
       "      <td>2538.000000</td>\n",
       "      <td>1.000000</td>\n",
       "      <td>1.000000</td>\n",
       "      <td>1.000000</td>\n",
       "      <td>0.999900</td>\n",
       "      <td>0.788235</td>\n",
       "      <td>0.999935</td>\n",
       "      <td>0.999900</td>\n",
       "      <td>1.000000</td>\n",
       "      <td>10.000000</td>\n",
       "      <td>1.000000</td>\n",
       "    </tr>\n",
       "  </tbody>\n",
       "</table>\n",
       "</div>"
      ],
      "text/plain": [
       "          Record_ID   Auction_ID  Bidder_Tendency  Bidding_Ratio  \\\n",
       "count   6321.000000  6321.000000      6321.000000    6321.000000   \n",
       "mean    7535.829457  1241.388230         0.142541       0.127670   \n",
       "std     4364.759137   735.770789         0.197084       0.131530   \n",
       "min        1.000000     5.000000         0.000000       0.011765   \n",
       "25%     3778.000000   589.000000         0.027027       0.043478   \n",
       "50%     7591.000000  1246.000000         0.062500       0.083333   \n",
       "75%    11277.000000  1867.000000         0.166667       0.166667   \n",
       "max    15144.000000  2538.000000         1.000000       1.000000   \n",
       "\n",
       "       Successive_Outbidding  Last_Bidding  Auction_Bids  \\\n",
       "count            6321.000000   6321.000000   6321.000000   \n",
       "mean                0.103781      0.463119      0.231606   \n",
       "std                 0.279698      0.380097      0.255252   \n",
       "min                 0.000000      0.000000      0.000000   \n",
       "25%                 0.000000      0.047928      0.000000   \n",
       "50%                 0.000000      0.440937      0.142857   \n",
       "75%                 0.000000      0.860363      0.454545   \n",
       "max                 1.000000      0.999900      0.788235   \n",
       "\n",
       "       Starting_Price_Average  Early_Bidding  Winning_Ratio  Auction_Duration  \\\n",
       "count             6321.000000    6321.000000    6321.000000       6321.000000   \n",
       "mean                 0.472821       0.430683       0.367731          4.615093   \n",
       "std                  0.489912       0.380785       0.436573          2.466629   \n",
       "min                  0.000000       0.000000       0.000000          1.000000   \n",
       "25%                  0.000000       0.026620       0.000000          3.000000   \n",
       "50%                  0.000000       0.360104       0.000000          5.000000   \n",
       "75%                  0.993593       0.826761       0.851852          7.000000   \n",
       "max                  0.999935       0.999900       1.000000         10.000000   \n",
       "\n",
       "             Class  \n",
       "count  6321.000000  \n",
       "mean      0.106787  \n",
       "std       0.308867  \n",
       "min       0.000000  \n",
       "25%       0.000000  \n",
       "50%       0.000000  \n",
       "75%       0.000000  \n",
       "max       1.000000  "
      ]
     },
     "execution_count": 4,
     "metadata": {},
     "output_type": "execute_result"
    }
   ],
   "source": [
    "#checking descriptitve statistics of the dataset\n",
    "df.describe()"
   ]
  },
  {
   "cell_type": "code",
   "execution_count": 1,
   "id": "7666766c",
   "metadata": {},
   "outputs": [],
   "source": [
    "#checking the number of rows and columns\n",
    "df.shape"
   ]
  },
  {
   "cell_type": "code",
   "execution_count": 9,
   "id": "4a0e1cd3",
   "metadata": {},
   "outputs": [
    {
     "data": {
      "text/html": [
       "<div>\n",
       "<style scoped>\n",
       "    .dataframe tbody tr th:only-of-type {\n",
       "        vertical-align: middle;\n",
       "    }\n",
       "\n",
       "    .dataframe tbody tr th {\n",
       "        vertical-align: top;\n",
       "    }\n",
       "\n",
       "    .dataframe thead th {\n",
       "        text-align: right;\n",
       "    }\n",
       "</style>\n",
       "<table border=\"1\" class=\"dataframe\">\n",
       "  <thead>\n",
       "    <tr style=\"text-align: right;\">\n",
       "      <th></th>\n",
       "      <th>Record_ID</th>\n",
       "      <th>Auction_ID</th>\n",
       "      <th>Bidder_ID</th>\n",
       "      <th>Bidder_Tendency</th>\n",
       "      <th>Bidding_Ratio</th>\n",
       "      <th>Successive_Outbidding</th>\n",
       "      <th>Last_Bidding</th>\n",
       "      <th>Auction_Bids</th>\n",
       "      <th>Starting_Price_Average</th>\n",
       "      <th>Early_Bidding</th>\n",
       "      <th>Winning_Ratio</th>\n",
       "      <th>Auction_Duration</th>\n",
       "      <th>Class</th>\n",
       "    </tr>\n",
       "  </thead>\n",
       "  <tbody>\n",
       "    <tr>\n",
       "      <th>0</th>\n",
       "      <td>1</td>\n",
       "      <td>732</td>\n",
       "      <td>_***i</td>\n",
       "      <td>0.200000</td>\n",
       "      <td>0.400000</td>\n",
       "      <td>0.0</td>\n",
       "      <td>0.000028</td>\n",
       "      <td>0.0</td>\n",
       "      <td>0.993593</td>\n",
       "      <td>0.000028</td>\n",
       "      <td>0.666667</td>\n",
       "      <td>5</td>\n",
       "      <td>0</td>\n",
       "    </tr>\n",
       "    <tr>\n",
       "      <th>1</th>\n",
       "      <td>2</td>\n",
       "      <td>732</td>\n",
       "      <td>g***r</td>\n",
       "      <td>0.024390</td>\n",
       "      <td>0.200000</td>\n",
       "      <td>0.0</td>\n",
       "      <td>0.013123</td>\n",
       "      <td>0.0</td>\n",
       "      <td>0.993593</td>\n",
       "      <td>0.013123</td>\n",
       "      <td>0.944444</td>\n",
       "      <td>5</td>\n",
       "      <td>0</td>\n",
       "    </tr>\n",
       "    <tr>\n",
       "      <th>2</th>\n",
       "      <td>3</td>\n",
       "      <td>732</td>\n",
       "      <td>t***p</td>\n",
       "      <td>0.142857</td>\n",
       "      <td>0.200000</td>\n",
       "      <td>0.0</td>\n",
       "      <td>0.003042</td>\n",
       "      <td>0.0</td>\n",
       "      <td>0.993593</td>\n",
       "      <td>0.003042</td>\n",
       "      <td>1.000000</td>\n",
       "      <td>5</td>\n",
       "      <td>0</td>\n",
       "    </tr>\n",
       "    <tr>\n",
       "      <th>3</th>\n",
       "      <td>4</td>\n",
       "      <td>732</td>\n",
       "      <td>7***n</td>\n",
       "      <td>0.100000</td>\n",
       "      <td>0.200000</td>\n",
       "      <td>0.0</td>\n",
       "      <td>0.097477</td>\n",
       "      <td>0.0</td>\n",
       "      <td>0.993593</td>\n",
       "      <td>0.097477</td>\n",
       "      <td>1.000000</td>\n",
       "      <td>5</td>\n",
       "      <td>0</td>\n",
       "    </tr>\n",
       "    <tr>\n",
       "      <th>4</th>\n",
       "      <td>5</td>\n",
       "      <td>900</td>\n",
       "      <td>z***z</td>\n",
       "      <td>0.051282</td>\n",
       "      <td>0.222222</td>\n",
       "      <td>0.0</td>\n",
       "      <td>0.001318</td>\n",
       "      <td>0.0</td>\n",
       "      <td>0.000000</td>\n",
       "      <td>0.001242</td>\n",
       "      <td>0.500000</td>\n",
       "      <td>7</td>\n",
       "      <td>0</td>\n",
       "    </tr>\n",
       "  </tbody>\n",
       "</table>\n",
       "</div>"
      ],
      "text/plain": [
       "   Record_ID  Auction_ID Bidder_ID  Bidder_Tendency  Bidding_Ratio  \\\n",
       "0          1         732     _***i         0.200000       0.400000   \n",
       "1          2         732     g***r         0.024390       0.200000   \n",
       "2          3         732     t***p         0.142857       0.200000   \n",
       "3          4         732     7***n         0.100000       0.200000   \n",
       "4          5         900     z***z         0.051282       0.222222   \n",
       "\n",
       "   Successive_Outbidding  Last_Bidding  Auction_Bids  Starting_Price_Average  \\\n",
       "0                    0.0      0.000028           0.0                0.993593   \n",
       "1                    0.0      0.013123           0.0                0.993593   \n",
       "2                    0.0      0.003042           0.0                0.993593   \n",
       "3                    0.0      0.097477           0.0                0.993593   \n",
       "4                    0.0      0.001318           0.0                0.000000   \n",
       "\n",
       "   Early_Bidding  Winning_Ratio  Auction_Duration  Class  \n",
       "0       0.000028       0.666667                 5      0  \n",
       "1       0.013123       0.944444                 5      0  \n",
       "2       0.003042       1.000000                 5      0  \n",
       "3       0.097477       1.000000                 5      0  \n",
       "4       0.001242       0.500000                 7      0  "
      ]
     },
     "execution_count": 9,
     "metadata": {},
     "output_type": "execute_result"
    }
   ],
   "source": [
    "#viewing the first 5 rows\n",
    "df.head()"
   ]
  },
  {
   "cell_type": "code",
   "execution_count": 10,
   "id": "5acc7c90",
   "metadata": {},
   "outputs": [
    {
     "data": {
      "text/plain": [
       "Record_ID                 0\n",
       "Auction_ID                0\n",
       "Bidder_ID                 0\n",
       "Bidder_Tendency           0\n",
       "Bidding_Ratio             0\n",
       "Successive_Outbidding     0\n",
       "Last_Bidding              0\n",
       "Auction_Bids              0\n",
       "Starting_Price_Average    0\n",
       "Early_Bidding             0\n",
       "Winning_Ratio             0\n",
       "Auction_Duration          0\n",
       "Class                     0\n",
       "dtype: int64"
      ]
     },
     "execution_count": 10,
     "metadata": {},
     "output_type": "execute_result"
    }
   ],
   "source": [
    "#checking for null values\n",
    "df.isnull().sum()"
   ]
  },
  {
   "cell_type": "code",
   "execution_count": 12,
   "id": "f7c74cd3",
   "metadata": {},
   "outputs": [
    {
     "data": {
      "text/plain": [
       "7     2427\n",
       "3     1408\n",
       "1     1289\n",
       "5     1060\n",
       "10     137\n",
       "Name: Auction_Duration, dtype: int64"
      ]
     },
     "execution_count": 12,
     "metadata": {},
     "output_type": "execute_result"
    }
   ],
   "source": [
    "#checking the count of each subclass in the Class variable\n",
    "df.Class.value_counts()"
   ]
  },
  {
   "cell_type": "code",
   "execution_count": 14,
   "id": "648470dd",
   "metadata": {},
   "outputs": [],
   "source": [
    "#determining class feature and predictors\n",
    "X = df.iloc[:,[1,3,4,5,6,7,8,9,10,11]].values\n",
    "y = df.iloc[:,12].values"
   ]
  },
  {
   "cell_type": "code",
   "execution_count": 15,
   "id": "bf98d73f",
   "metadata": {},
   "outputs": [
    {
     "data": {
      "text/plain": [
       "array([0, 0, 0, ..., 0, 0, 0], dtype=int64)"
      ]
     },
     "execution_count": 15,
     "metadata": {},
     "output_type": "execute_result"
    }
   ],
   "source": [
    "y"
   ]
  },
  {
   "cell_type": "code",
   "execution_count": 16,
   "id": "d95534ed",
   "metadata": {},
   "outputs": [
    {
     "name": "stderr",
     "output_type": "stream",
     "text": [
      "C:\\Users\\JOHN_EKWERE\\anaconda3\\lib\\site-packages\\seaborn\\_decorators.py:36: FutureWarning: Pass the following variable as a keyword arg: x. From version 0.12, the only valid positional argument will be `data`, and passing other arguments without an explicit keyword will result in an error or misinterpretation.\n",
      "  warnings.warn(\n"
     ]
    },
    {
     "data": {
      "image/png": "[encoded data removed]",
      "text/plain": [
       "<Figure size 432x288 with 1 Axes>"
      ]
     },
     "metadata": {
      "needs_background": "light"
     },
     "output_type": "display_data"
    },
    {
     "name": "stdout",
     "output_type": "stream",
     "text": [
      "None\n",
      "0    5646\n",
      "1     675\n",
      "Name: Class, dtype: int64\n"
     ]
    }
   ],
   "source": [
    "#plot of Class variable to check if the data is balanced\n",
    "sns.countplot(df.Class)\n",
    "print(plt.show())\n",
    "print(df.Class.value_counts())"
   ]
  },
  {
   "cell_type": "code",
   "execution_count": 17,
   "id": "d71428b5",
   "metadata": {},
   "outputs": [],
   "source": [
    "#splitting dataset into test and train\n",
    "X_train, X_test, y_train, y_test = train_test_split(X,y, test_size = 0.3, stratify=y, random_state = 99)"
   ]
  },
  {
   "cell_type": "code",
   "execution_count": 19,
   "id": "409d1918",
   "metadata": {},
   "outputs": [
    {
     "data": {
      "text/plain": [
       "<AxesSubplot:ylabel='count'>"
      ]
     },
     "execution_count": 19,
     "metadata": {},
     "output_type": "execute_result"
    },
    {
     "data": {
      "image/png": "[encoded data removed]",
      "text/plain": [
       "<Figure size 432x288 with 1 Axes>"
      ]
     },
     "metadata": {
      "needs_background": "light"
     },
     "output_type": "display_data"
    }
   ],
   "source": [
    "#balancing the dataset using RandomUnderSampler\n",
    "resampler = RandomUnderSampler(random_state=0)\n",
    "X_train, y_train = resampler.fit_resample(X_train, y_train)\n",
    "sns.countplot(x=y_train)"
   ]
  },
  {
   "cell_type": "code",
   "execution_count": 20,
   "id": "5e37a889",
   "metadata": {},
   "outputs": [],
   "source": [
    "#scaling the features\n",
    "sc = StandardScaler()\n",
    "X_train_s = sc.fit_transform(X_train)\n",
    "X_test_s = sc.transform(X_test)"
   ]
  },
  {
   "cell_type": "code",
   "execution_count": 21,
   "id": "ad2fc010",
   "metadata": {},
   "outputs": [],
   "source": [
    "#building the neural network\n",
    "model = tf.keras.models.Sequential()\n",
    "model.add(tf.keras.layers.Dense(15,activation='relu',input_shape=(10,)))\n",
    "model.add(tf.keras.layers.Dense(9,activation='relu'))\n",
    "model.add(tf.keras.layers.Dense(5,activation='relu'))\n",
    "model.add(tf.keras.layers.Dense(1,activation='sigmoid'))"
   ]
  },
  {
   "cell_type": "code",
   "execution_count": 22,
   "id": "cc56adbc",
   "metadata": {},
   "outputs": [
    {
     "name": "stdout",
     "output_type": "stream",
     "text": [
      "Model: \"sequential\"\n",
      "_________________________________________________________________\n",
      " Layer (type)                Output Shape              Param #   \n",
      "=================================================================\n",
      " dense (Dense)               (None, 15)                165       \n",
      "                                                                 \n",
      " dense_1 (Dense)             (None, 9)                 144       \n",
      "                                                                 \n",
      " dense_2 (Dense)             (None, 5)                 50        \n",
      "                                                                 \n",
      " dense_3 (Dense)             (None, 1)                 6         \n",
      "                                                                 \n",
      "=================================================================\n",
      "Total params: 365\n",
      "Trainable params: 365\n",
      "Non-trainable params: 0\n",
      "_________________________________________________________________\n"
     ]
    }
   ],
   "source": [
    "model.compile(optimizer='adam',loss='binary_crossentropy',metrics='accuracy')\n",
    "model.summary()"
   ]
  },
  {
   "cell_type": "code",
   "execution_count": 24,
   "id": "5f5e677a",
   "metadata": {},
   "outputs": [
    {
     "name": "stdout",
     "output_type": "stream",
     "text": [
      "Epoch 1/20\n",
      "95/95 - 2s - loss: 0.5879 - accuracy: 0.7338 - val_loss: 0.6371 - val_accuracy: 0.6825 - 2s/epoch - 21ms/step\n",
      "Epoch 2/20\n",
      "95/95 - 0s - loss: 0.3343 - accuracy: 0.9113 - val_loss: 0.2875 - val_accuracy: 0.9259 - 315ms/epoch - 3ms/step\n",
      "Epoch 3/20\n",
      "95/95 - 0s - loss: 0.1554 - accuracy: 0.9682 - val_loss: 0.1735 - val_accuracy: 0.9471 - 272ms/epoch - 3ms/step\n",
      "Epoch 4/20\n",
      "95/95 - 0s - loss: 0.0939 - accuracy: 0.9762 - val_loss: 0.1081 - val_accuracy: 0.9577 - 265ms/epoch - 3ms/step\n",
      "Epoch 5/20\n",
      "95/95 - 0s - loss: 0.0696 - accuracy: 0.9815 - val_loss: 0.0940 - val_accuracy: 0.9577 - 232ms/epoch - 2ms/step\n",
      "Epoch 6/20\n",
      "95/95 - 0s - loss: 0.0573 - accuracy: 0.9854 - val_loss: 0.0711 - val_accuracy: 0.9841 - 268ms/epoch - 3ms/step\n",
      "Epoch 7/20\n",
      "95/95 - 0s - loss: 0.0504 - accuracy: 0.9907 - val_loss: 0.0601 - val_accuracy: 0.9841 - 228ms/epoch - 2ms/step\n",
      "Epoch 8/20\n",
      "95/95 - 0s - loss: 0.0453 - accuracy: 0.9907 - val_loss: 0.0456 - val_accuracy: 0.9894 - 230ms/epoch - 2ms/step\n",
      "Epoch 9/20\n",
      "95/95 - 0s - loss: 0.0417 - accuracy: 0.9921 - val_loss: 0.0519 - val_accuracy: 0.9894 - 180ms/epoch - 2ms/step\n",
      "Epoch 10/20\n",
      "95/95 - 0s - loss: 0.0387 - accuracy: 0.9921 - val_loss: 0.0526 - val_accuracy: 0.9841 - 183ms/epoch - 2ms/step\n",
      "Epoch 11/20\n",
      "95/95 - 0s - loss: 0.0372 - accuracy: 0.9921 - val_loss: 0.0519 - val_accuracy: 0.9841 - 238ms/epoch - 3ms/step\n",
      "Epoch 12/20\n",
      "95/95 - 0s - loss: 0.0346 - accuracy: 0.9921 - val_loss: 0.0397 - val_accuracy: 0.9894 - 231ms/epoch - 2ms/step\n",
      "Epoch 13/20\n",
      "95/95 - 0s - loss: 0.0331 - accuracy: 0.9934 - val_loss: 0.0433 - val_accuracy: 0.9894 - 181ms/epoch - 2ms/step\n",
      "Epoch 14/20\n",
      "95/95 - 0s - loss: 0.0313 - accuracy: 0.9921 - val_loss: 0.0395 - val_accuracy: 0.9894 - 177ms/epoch - 2ms/step\n",
      "Epoch 15/20\n",
      "95/95 - 0s - loss: 0.0300 - accuracy: 0.9934 - val_loss: 0.0353 - val_accuracy: 0.9947 - 183ms/epoch - 2ms/step\n",
      "Epoch 16/20\n",
      "95/95 - 0s - loss: 0.0292 - accuracy: 0.9934 - val_loss: 0.0381 - val_accuracy: 0.9947 - 178ms/epoch - 2ms/step\n",
      "Epoch 17/20\n",
      "95/95 - 0s - loss: 0.0286 - accuracy: 0.9934 - val_loss: 0.0462 - val_accuracy: 0.9894 - 233ms/epoch - 2ms/step\n",
      "Epoch 18/20\n",
      "95/95 - 0s - loss: 0.0266 - accuracy: 0.9947 - val_loss: 0.0313 - val_accuracy: 0.9947 - 186ms/epoch - 2ms/step\n",
      "Epoch 19/20\n",
      "95/95 - 0s - loss: 0.0256 - accuracy: 0.9934 - val_loss: 0.0282 - val_accuracy: 0.9947 - 179ms/epoch - 2ms/step\n",
      "Epoch 20/20\n",
      "95/95 - 0s - loss: 0.0252 - accuracy: 0.9934 - val_loss: 0.0289 - val_accuracy: 0.9947 - 181ms/epoch - 2ms/step\n"
     ]
    }
   ],
   "source": [
    "#training the model\n",
    "history = model.fit(X_train_s, y_train, batch_size = 8, epochs= 20, verbose=2,  validation_split=0.2)"
   ]
  },
  {
   "cell_type": "code",
   "execution_count": 25,
   "id": "2a58e6af",
   "metadata": {},
   "outputs": [
    {
     "data": {
      "text/plain": [
       "<matplotlib.legend.Legend at 0x212563e7d90>"
      ]
     },
     "execution_count": 25,
     "metadata": {},
     "output_type": "execute_result"
    },
    {
     "data": {
      "image/png": "[encoded data removed]",
      "text/plain": [
       "<Figure size 432x288 with 1 Axes>"
      ]
     },
     "metadata": {
      "needs_background": "light"
     },
     "output_type": "display_data"
    }
   ],
   "source": [
    "#plotting the accuracy\n",
    "accuracy = history.history['accuracy']\n",
    "validation_accuracy = history.history['val_accuracy']\n",
    "plt.plot(accuracy, label='Training Set Accuracy')\n",
    "plt.plot(validation_accuracy, label='Validation Set Accuracy')\n",
    "plt.ylabel('Accuracy')\n",
    "plt.ylim([min(plt.ylim()),1])\n",
    "plt.title('Training and Validation Accuracy Across Epochs')\n",
    "plt.legend()"
   ]
  },
  {
   "cell_type": "code",
   "execution_count": 26,
   "id": "2bb90727",
   "metadata": {},
   "outputs": [
    {
     "data": {
      "text/plain": [
       "<matplotlib.legend.Legend at 0x21256494550>"
      ]
     },
     "execution_count": 26,
     "metadata": {},
     "output_type": "execute_result"
    },
    {
     "data": {
      "image/png": "[encoded data removed]",
      "text/plain": [
       "<Figure size 432x288 with 1 Axes>"
      ]
     },
     "metadata": {
      "needs_background": "light"
     },
     "output_type": "display_data"
    }
   ],
   "source": [
    "#plotting the loss function\n",
    "loss = history.history['loss']\n",
    "validation_loss = history.history['val_loss']\n",
    "plt.plot(loss, label='Training Set Loss')\n",
    "plt.plot(validation_loss, label='Validation Set Loss')\n",
    "plt.ylabel('Loss')\n",
    "plt.title('Training and Validation Accuracy Across Epochs')\n",
    "plt.legend()"
   ]
  },
  {
   "cell_type": "code",
   "execution_count": 27,
   "id": "fa6f35f7",
   "metadata": {},
   "outputs": [
    {
     "name": "stdout",
     "output_type": "stream",
     "text": [
      "60/60 [==============================] - 0s 1ms/step\n"
     ]
    }
   ],
   "source": [
    "y_pred = model.predict(X_test_s) > 0.2"
   ]
  },
  {
   "cell_type": "code",
   "execution_count": 28,
   "id": "6402b74e",
   "metadata": {},
   "outputs": [
    {
     "data": {
      "image/png": "[encoded data removed]",
      "text/plain": [
       "<Figure size 432x288 with 2 Axes>"
      ]
     },
     "metadata": {
      "needs_background": "light"
     },
     "output_type": "display_data"
    }
   ],
   "source": [
    "#evaluating model performance\n",
    "confusion_matrix = confusion_matrix(y_test,y_pred)\n",
    "ax = sns.heatmap(confusion_matrix, cmap='flare',annot=True, fmt='d')\n",
    "plt.xlabel(\"Predicted Class\",fontsize=12)\n",
    "plt.ylabel(\"True Class\",fontsize=12)\n",
    "plt.title(\"Confusion Matrix\",fontsize=12)\n",
    "plt.show()"
   ]
  },
  {
   "cell_type": "code",
   "execution_count": 29,
   "id": "4cf8a903",
   "metadata": {},
   "outputs": [
    {
     "data": {
      "text/plain": [
       "array([0, 0, 0, ..., 0, 0, 1], dtype=int64)"
      ]
     },
     "execution_count": 29,
     "metadata": {},
     "output_type": "execute_result"
    }
   ],
   "source": [
    "y_test"
   ]
  },
  {
   "cell_type": "code",
   "execution_count": 30,
   "id": "77c029e3",
   "metadata": {},
   "outputs": [
    {
     "name": "stdout",
     "output_type": "stream",
     "text": [
      "[[False]\n",
      " [False]\n",
      " [False]\n",
      " ...\n",
      " [False]\n",
      " [False]\n",
      " [ True]]\n"
     ]
    }
   ],
   "source": [
    "print(y_pred)"
   ]
  },
  {
   "cell_type": "code",
   "execution_count": 31,
   "id": "26bcc441",
   "metadata": {},
   "outputs": [
    {
     "name": "stdout",
     "output_type": "stream",
     "text": [
      "accuracy:0.97\n",
      "\n",
      "\n",
      "Confusion Matrix\n",
      "[[1636   58]\n",
      " [   3  200]] \n",
      "\n",
      "\n",
      "------------------------------------------------\n",
      "Classification Report:\n",
      "\n",
      "              precision    recall  f1-score   support\n",
      "\n",
      "           0       1.00      0.97      0.98      1694\n",
      "           1       0.78      0.99      0.87       203\n",
      "\n",
      "    accuracy                           0.97      1897\n",
      "   macro avg       0.89      0.98      0.92      1897\n",
      "weighted avg       0.97      0.97      0.97      1897\n",
      "\n"
     ]
    }
   ],
   "source": [
    "from sklearn import metrics\n",
    "acc = metrics.accuracy_score(y_test, y_pred)\n",
    "print('accuracy:%.2f\\n\\n'%(acc))\n",
    "cm=metrics.confusion_matrix(y_test,y_pred)\n",
    "print('Confusion Matrix')\n",
    "print(cm,'\\n\\n')\n",
    "print('------------------------------------------------')\n",
    "result=metrics.classification_report(y_test,y_pred)\n",
    "print('Classification Report:\\n')\n",
    "print(result)"
   ]
  }
 ],
 "metadata": {
  "kernelspec": {
   "display_name": "Python 3 (ipykernel)",
   "language": "python",
   "name": "python3"
  },
  "language_info": {
   "codemirror_mode": {
    "name": "ipython",
    "version": 3
   },
   "file_extension": ".py",
   "mimetype": "text/x-python",
   "name": "python",
   "nbconvert_exporter": "python",
   "pygments_lexer": "ipython3",
   "version": "3.9.12"
  }
 },
 "nbformat": 4,
 "nbformat_minor": 5
}
